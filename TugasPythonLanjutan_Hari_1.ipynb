{
 "cells": [
  {
   "cell_type": "code",
   "execution_count": 3,
   "metadata": {},
   "outputs": [
    {
     "data": {
      "text/html": [
       "\n",
       "        <iframe\n",
       "            width=\"800\"\n",
       "            height=\"500\"\n",
       "            src=\"Tugas-ke-1.pdf\"\n",
       "            frameborder=\"0\"\n",
       "            allowfullscreen\n",
       "        ></iframe>\n",
       "        "
      ],
      "text/plain": [
       "<IPython.lib.display.IFrame at 0x191eee34460>"
      ]
     },
     "execution_count": 3,
     "metadata": {},
     "output_type": "execute_result"
    }
   ],
   "source": [
    "from IPython.display import IFrame\n",
    "IFrame(\"Tugas-ke-1.pdf\", width=800, height=500)"
   ]
  },
  {
   "cell_type": "code",
   "execution_count": 43,
   "metadata": {},
   "outputs": [],
   "source": [
    "#1. Pengalaman saya adalah manipulasi data, membuat loop, membuat fungsi\n",
    "#2. Saya berharap ada kelas Job Connector\n",
    "#3.\n",
    "\n",
    "class manipulasi:\n",
    "    data = 'saya tinggal di indonesia'\n",
    "    def kapital(self, x):\n",
    "        return(x.capitalize())\n",
    "        \n",
    "    def kecil(self, x):\n",
    "        return x.lower()\n",
    "    \n",
    "    def besar(self, x):\n",
    "        return x.upper()\n",
    "    \n",
    "    def mjd_list(self, x):\n",
    "        return x.split()"
   ]
  },
  {
   "cell_type": "code",
   "execution_count": 44,
   "metadata": {},
   "outputs": [
    {
     "name": "stdout",
     "output_type": "stream",
     "text": [
      "Saya tinggal di indonesia\n",
      "saya tinggal di indonesia\n",
      "SAYA TINGGAL DI INDONESIA\n",
      "['saya', 'tinggal', 'di', 'indonesia']\n"
     ]
    }
   ],
   "source": [
    "obj = manipulasi()\n",
    "\n",
    "print(obj.kapital(data))\n",
    "print(obj.kecil(data))\n",
    "print(obj.besar(data))\n",
    "print(obj.mjd_list(data))"
   ]
  }
 ],
 "metadata": {
  "kernelspec": {
   "display_name": "Python 3",
   "language": "python",
   "name": "python3"
  },
  "language_info": {
   "codemirror_mode": {
    "name": "ipython",
    "version": 3
   },
   "file_extension": ".py",
   "mimetype": "text/x-python",
   "name": "python",
   "nbconvert_exporter": "python",
   "pygments_lexer": "ipython3",
   "version": "3.8.3"
  }
 },
 "nbformat": 4,
 "nbformat_minor": 4
}
